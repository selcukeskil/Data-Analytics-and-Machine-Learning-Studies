{
 "cells": [
  {
   "cell_type": "markdown",
   "id": "8e160181",
   "metadata": {},
   "source": [
    "Selçuk Eşkil"
   ]
  },
  {
   "cell_type": "code",
   "execution_count": 1,
   "id": "83387714",
   "metadata": {},
   "outputs": [
    {
     "data": {
      "text/html": [
       "<div>\n",
       "<style scoped>\n",
       "    .dataframe tbody tr th:only-of-type {\n",
       "        vertical-align: middle;\n",
       "    }\n",
       "\n",
       "    .dataframe tbody tr th {\n",
       "        vertical-align: top;\n",
       "    }\n",
       "\n",
       "    .dataframe thead th {\n",
       "        text-align: right;\n",
       "    }\n",
       "</style>\n",
       "<table border=\"1\" class=\"dataframe\">\n",
       "  <thead>\n",
       "    <tr style=\"text-align: right;\">\n",
       "      <th></th>\n",
       "      <th>x</th>\n",
       "      <th>y</th>\n",
       "    </tr>\n",
       "  </thead>\n",
       "  <tbody>\n",
       "    <tr>\n",
       "      <th>0</th>\n",
       "      <td>-4.809264</td>\n",
       "      <td>-92.911272</td>\n",
       "    </tr>\n",
       "    <tr>\n",
       "      <th>1</th>\n",
       "      <td>-4.722680</td>\n",
       "      <td>-98.506658</td>\n",
       "    </tr>\n",
       "    <tr>\n",
       "      <th>2</th>\n",
       "      <td>-3.852326</td>\n",
       "      <td>-63.212666</td>\n",
       "    </tr>\n",
       "    <tr>\n",
       "      <th>3</th>\n",
       "      <td>-3.687668</td>\n",
       "      <td>-51.036538</td>\n",
       "    </tr>\n",
       "    <tr>\n",
       "      <th>4</th>\n",
       "      <td>-3.602674</td>\n",
       "      <td>-54.784580</td>\n",
       "    </tr>\n",
       "    <tr>\n",
       "      <th>...</th>\n",
       "      <td>...</td>\n",
       "      <td>...</td>\n",
       "    </tr>\n",
       "    <tr>\n",
       "      <th>95</th>\n",
       "      <td>6.890595</td>\n",
       "      <td>39.282364</td>\n",
       "    </tr>\n",
       "    <tr>\n",
       "      <th>96</th>\n",
       "      <td>7.118811</td>\n",
       "      <td>49.384561</td>\n",
       "    </tr>\n",
       "    <tr>\n",
       "      <th>97</th>\n",
       "      <td>7.178848</td>\n",
       "      <td>51.564875</td>\n",
       "    </tr>\n",
       "    <tr>\n",
       "      <th>98</th>\n",
       "      <td>7.942389</td>\n",
       "      <td>85.676290</td>\n",
       "    </tr>\n",
       "    <tr>\n",
       "      <th>99</th>\n",
       "      <td>9.658969</td>\n",
       "      <td>184.533262</td>\n",
       "    </tr>\n",
       "  </tbody>\n",
       "</table>\n",
       "<p>100 rows × 2 columns</p>\n",
       "</div>"
      ],
      "text/plain": [
       "           x           y\n",
       "0  -4.809264  -92.911272\n",
       "1  -4.722680  -98.506658\n",
       "2  -3.852326  -63.212666\n",
       "3  -3.687668  -51.036538\n",
       "4  -3.602674  -54.784580\n",
       "..       ...         ...\n",
       "95  6.890595   39.282364\n",
       "96  7.118811   49.384561\n",
       "97  7.178848   51.564875\n",
       "98  7.942389   85.676290\n",
       "99  9.658969  184.533262\n",
       "\n",
       "[100 rows x 2 columns]"
      ]
     },
     "execution_count": 1,
     "metadata": {},
     "output_type": "execute_result"
    }
   ],
   "source": [
    "import numpy as np\n",
    "import matplotlib.pyplot as plt\n",
    "import pandas as pd\n",
    "\n",
    "dataset = pd.read_csv('HW1DataSet.csv') #import dataset\n",
    "dataset"
   ]
  },
  {
   "cell_type": "code",
   "execution_count": 2,
   "id": "0d2de253",
   "metadata": {},
   "outputs": [],
   "source": [
    "y=dataset['y'].values                 \n",
    "x=dataset['x'].values.reshape(-1,1) \n",
    "\n",
    "from sklearn.model_selection import train_test_split #splitting dataset to train and test\n",
    "X_train, X_test, Y_train, Y_test = train_test_split(x, y, test_size=0.2)"
   ]
  },
  {
   "cell_type": "markdown",
   "id": "cb97e76f",
   "metadata": {},
   "source": [
    "## Leave One Out"
   ]
  },
  {
   "cell_type": "code",
   "execution_count": 3,
   "id": "4fc43d5a",
   "metadata": {},
   "outputs": [],
   "source": [
    "from sklearn.linear_model import LinearRegression\n",
    "from sklearn.preprocessing import PolynomialFeatures\n",
    "from sklearn.metrics import mean_squared_error, r2_score\n",
    "\n",
    "def create_polynomial_regression_model(degree):\n",
    "  \"Creates a polynomial regression model for the given degree\"\n",
    "  \n",
    "  poly_features = PolynomialFeatures(degree=degree,include_bias=False)\n",
    "  \n",
    "  # transforms the existing features to higher degree features.\n",
    "  X_train_poly = poly_features.fit_transform(X_trainv)\n",
    "  \n",
    "  # fit the transformed features to Linear Regression\n",
    "  poly_model = LinearRegression()\n",
    "  poly_model.fit(X_train_poly, Y_trainv)\n",
    "  \n",
    "  # predicting on training data-set\n",
    "  y_train_predicted = poly_model.predict(X_train_poly)\n",
    "  \n",
    "  # predicting on validation data-set\n",
    "  y_valid_predict = poly_model.predict(poly_features.fit_transform(X_valid))\n",
    "  \n",
    "  # evaluating the model on training dataset\n",
    "  mse_train = mean_squared_error(Y_trainv, y_train_predicted)\n",
    "  \n",
    "  # evaluating the model on validation dataset\n",
    "  mse_valid = mean_squared_error(Y_valid, y_valid_predict)\n",
    "   \n",
    "  return (mse_train,mse_valid,degree)"
   ]
  },
  {
   "cell_type": "code",
   "execution_count": 4,
   "id": "5d554466",
   "metadata": {},
   "outputs": [
    {
     "data": {
      "text/html": [
       "<div>\n",
       "<style scoped>\n",
       "    .dataframe tbody tr th:only-of-type {\n",
       "        vertical-align: middle;\n",
       "    }\n",
       "\n",
       "    .dataframe tbody tr th {\n",
       "        vertical-align: top;\n",
       "    }\n",
       "\n",
       "    .dataframe thead th {\n",
       "        text-align: right;\n",
       "    }\n",
       "</style>\n",
       "<table border=\"1\" class=\"dataframe\">\n",
       "  <thead>\n",
       "    <tr style=\"text-align: right;\">\n",
       "      <th></th>\n",
       "      <th>Validation Error</th>\n",
       "      <th>Degree</th>\n",
       "    </tr>\n",
       "  </thead>\n",
       "  <tbody>\n",
       "    <tr>\n",
       "      <th>0</th>\n",
       "      <td>519.870758</td>\n",
       "      <td>1</td>\n",
       "    </tr>\n",
       "    <tr>\n",
       "      <th>1</th>\n",
       "      <td>614.158850</td>\n",
       "      <td>2</td>\n",
       "    </tr>\n",
       "    <tr>\n",
       "      <th>2</th>\n",
       "      <td>10.598922</td>\n",
       "      <td>3</td>\n",
       "    </tr>\n",
       "    <tr>\n",
       "      <th>3</th>\n",
       "      <td>12.860215</td>\n",
       "      <td>4</td>\n",
       "    </tr>\n",
       "    <tr>\n",
       "      <th>4</th>\n",
       "      <td>23.111653</td>\n",
       "      <td>5</td>\n",
       "    </tr>\n",
       "    <tr>\n",
       "      <th>5</th>\n",
       "      <td>40.380581</td>\n",
       "      <td>6</td>\n",
       "    </tr>\n",
       "    <tr>\n",
       "      <th>6</th>\n",
       "      <td>32.905439</td>\n",
       "      <td>7</td>\n",
       "    </tr>\n",
       "  </tbody>\n",
       "</table>\n",
       "</div>"
      ],
      "text/plain": [
       "   Validation Error  Degree\n",
       "0        519.870758       1\n",
       "1        614.158850       2\n",
       "2         10.598922       3\n",
       "3         12.860215       4\n",
       "4         23.111653       5\n",
       "5         40.380581       6\n",
       "6         32.905439       7"
      ]
     },
     "execution_count": 4,
     "metadata": {},
     "output_type": "execute_result"
    }
   ],
   "source": [
    "from sklearn.model_selection import LeaveOneOut\n",
    "loo = LeaveOneOut()\n",
    "LeaveOneOutCV=[]\n",
    "for j in range(1,8):\n",
    "    LeaveOneOutErrors=[]\n",
    "    for train_index, validation_index in loo.split(X_train):\n",
    "        X_trainv, X_valid = X_train[train_index],X_train[validation_index]\n",
    "        Y_trainv, Y_valid = Y_train[train_index], Y_train[validation_index]\n",
    "        LeaveOneOutErrors.append(create_polynomial_regression_model(j))\n",
    "        df = pd.DataFrame (LeaveOneOutErrors,columns=['Training Error','Validation Error','Degree'])\n",
    "    LeaveOneOutCV.append([df['Validation Error'].mean(),df['Degree'][0]])  \n",
    "LeaveOneOutCV_df = pd.DataFrame (LeaveOneOutCV,columns=['Validation Error','Degree'])\n",
    "LeaveOneOutCV_df "
   ]
  },
  {
   "cell_type": "markdown",
   "id": "bff28ec1",
   "metadata": {},
   "source": [
    "The one that has the smallest LOOCV mean squared error is the 3rd degree polynomial regression."
   ]
  },
  {
   "cell_type": "code",
   "execution_count": 5,
   "id": "aee120cb",
   "metadata": {},
   "outputs": [
    {
     "name": "stdout",
     "output_type": "stream",
     "text": [
      "7.094673500014041\n"
     ]
    }
   ],
   "source": [
    "#Refitting model on the training set with the 3rd degree of polynomial\n",
    "\n",
    "poly_features = PolynomialFeatures(degree=3,include_bias=False)  \n",
    "X_train_poly = poly_features.fit_transform(X_train)\n",
    "poly_model = LinearRegression()\n",
    "poly_model.fit(X_train_poly, Y_train)\n",
    "X_test_poly = poly_features.fit_transform(X_test)\n",
    "Y_test_predict=poly_model.predict(X_test_poly) #predicting Y values from X test values\n",
    "mse_test = mean_squared_error(Y_test, Y_test_predict) #calculating MSE on the test set\n",
    "print(mse_test) "
   ]
  },
  {
   "cell_type": "markdown",
   "id": "941eb0ba",
   "metadata": {},
   "source": [
    "## K-Folds"
   ]
  },
  {
   "cell_type": "code",
   "execution_count": 6,
   "id": "7a0e6722",
   "metadata": {},
   "outputs": [],
   "source": [
    "from sklearn.model_selection import KFold\n",
    "\n",
    "#trying different degrees of polynomial functions\n",
    "\n",
    "cv = KFold(n_splits=5, random_state=42, shuffle=True)  \n",
    "CVErrors=[]\n",
    "for train_index, validation_index in cv.split(X_train):\n",
    "    X_trainv, X_valid, Y_trainv, Y_valid = X_train[train_index], X_train[validation_index], Y_train[train_index], Y_train[validation_index]\n",
    "    for j in range(1,8):\n",
    "        CVErrors.append(create_polynomial_regression_model(j))\n",
    "        df = pd.DataFrame (CVErrors,columns=['Training Error','Validation Error','Degree'])"
   ]
  },
  {
   "cell_type": "code",
   "execution_count": 7,
   "id": "6d0fafbf",
   "metadata": {},
   "outputs": [
    {
     "data": {
      "text/html": [
       "<div>\n",
       "<style scoped>\n",
       "    .dataframe tbody tr th:only-of-type {\n",
       "        vertical-align: middle;\n",
       "    }\n",
       "\n",
       "    .dataframe tbody tr th {\n",
       "        vertical-align: top;\n",
       "    }\n",
       "\n",
       "    .dataframe thead th {\n",
       "        text-align: right;\n",
       "    }\n",
       "</style>\n",
       "<table border=\"1\" class=\"dataframe\">\n",
       "  <thead>\n",
       "    <tr style=\"text-align: right;\">\n",
       "      <th></th>\n",
       "      <th>Degree</th>\n",
       "      <th>Validation Error</th>\n",
       "    </tr>\n",
       "  </thead>\n",
       "  <tbody>\n",
       "    <tr>\n",
       "      <th>0</th>\n",
       "      <td>1</td>\n",
       "      <td>531.757578</td>\n",
       "    </tr>\n",
       "    <tr>\n",
       "      <th>1</th>\n",
       "      <td>2</td>\n",
       "      <td>743.103141</td>\n",
       "    </tr>\n",
       "    <tr>\n",
       "      <th>2</th>\n",
       "      <td>3</td>\n",
       "      <td>10.109716</td>\n",
       "    </tr>\n",
       "    <tr>\n",
       "      <th>3</th>\n",
       "      <td>4</td>\n",
       "      <td>11.492268</td>\n",
       "    </tr>\n",
       "    <tr>\n",
       "      <th>4</th>\n",
       "      <td>5</td>\n",
       "      <td>20.802261</td>\n",
       "    </tr>\n",
       "    <tr>\n",
       "      <th>5</th>\n",
       "      <td>6</td>\n",
       "      <td>51.951595</td>\n",
       "    </tr>\n",
       "    <tr>\n",
       "      <th>6</th>\n",
       "      <td>7</td>\n",
       "      <td>65.791650</td>\n",
       "    </tr>\n",
       "  </tbody>\n",
       "</table>\n",
       "</div>"
      ],
      "text/plain": [
       "   Degree  Validation Error\n",
       "0       1        531.757578\n",
       "1       2        743.103141\n",
       "2       3         10.109716\n",
       "3       4         11.492268\n",
       "4       5         20.802261\n",
       "5       6         51.951595\n",
       "6       7         65.791650"
      ]
     },
     "execution_count": 7,
     "metadata": {},
     "output_type": "execute_result"
    }
   ],
   "source": [
    "#group by degrees of polynomials and take the mean of validation errors\n",
    "\n",
    "kfoldCV_by_degree = df.groupby(\"Degree\")\n",
    "kfoldCV_by_degree = kfoldCV_by_degree.mean()\n",
    "kfoldCV_by_degree = kfoldCV_by_degree.reset_index()\n",
    "kfoldCV_by_degree[['Degree', 'Validation Error']]"
   ]
  },
  {
   "cell_type": "markdown",
   "id": "c7309861",
   "metadata": {},
   "source": [
    "The one that has the smallest K-fold validation mean squared error is the 3rd degree polynomial regression."
   ]
  },
  {
   "cell_type": "code",
   "execution_count": 8,
   "id": "cdc8802f",
   "metadata": {},
   "outputs": [
    {
     "name": "stdout",
     "output_type": "stream",
     "text": [
      "7.094673500014041\n"
     ]
    }
   ],
   "source": [
    "#Refitting model on the training set with the 3rd degree of polynomial\n",
    "\n",
    "poly_features = PolynomialFeatures(degree=3,include_bias=False)  \n",
    "X_train_poly = poly_features.fit_transform(X_train)\n",
    "poly_model = LinearRegression()\n",
    "poly_model.fit(X_train_poly, Y_train)\n",
    "X_test_poly = poly_features.fit_transform(X_test)\n",
    "Y_test_predict=poly_model.predict(X_test_poly) #predicting Y values from X test values\n",
    "mse_test = mean_squared_error(Y_test, Y_test_predict) #calculating MSE on the test set\n",
    "print(mse_test)"
   ]
  },
  {
   "cell_type": "code",
   "execution_count": 9,
   "id": "656ab1a3",
   "metadata": {},
   "outputs": [
    {
     "data": {
      "text/plain": [
       "0.9271219482334372"
      ]
     },
     "execution_count": 9,
     "metadata": {},
     "output_type": "execute_result"
    }
   ],
   "source": [
    "r2 = r2_score(Y_test, Y_test_predict) #calculating R^2 score for test set\n",
    "r2 "
   ]
  },
  {
   "cell_type": "markdown",
   "id": "ed30d829",
   "metadata": {},
   "source": [
    "The degrees of polynomials chosen with LOOCV and 5-fold cross\n",
    "validation are same, both 3. "
   ]
  }
 ],
 "metadata": {
  "kernelspec": {
   "display_name": "Python 3 (ipykernel)",
   "language": "python",
   "name": "python3"
  },
  "language_info": {
   "codemirror_mode": {
    "name": "ipython",
    "version": 3
   },
   "file_extension": ".py",
   "mimetype": "text/x-python",
   "name": "python",
   "nbconvert_exporter": "python",
   "pygments_lexer": "ipython3",
   "version": "3.8.12"
  }
 },
 "nbformat": 4,
 "nbformat_minor": 5
}
